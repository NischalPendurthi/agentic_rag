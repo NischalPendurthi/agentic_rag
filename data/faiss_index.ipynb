{
 "cells": [
  {
   "cell_type": "code",
   "execution_count": null,
   "id": "3aee8561",
   "metadata": {
    "vscode": {
     "languageId": "plaintext"
    }
   },
   "outputs": [],
   "source": [
    "import faiss\n",
    "import numpy as np\n",
    "from sentence_transformers import SentenceTransformer\n",
    "\n",
    "# Sample corpus (replace with your domain knowledge corpus)\n",
    "corpus = [\"Example document 1.\", \"Example document 2.\", \"Another piece of text.\"]\n",
    "\n",
    "# Load embedding model\n",
    "model = SentenceTransformer('all-MiniLM-L6-v2')\n",
    "embeddings = model.encode(corpus, show_progress_bar=True)\n",
    "\n",
    "# Build FAISS index\n",
    "dimension = embeddings.shape[1]\n",
    "index = faiss.IndexFlatL2(dimension)\n",
    "index.add(np.array(embeddings))\n",
    "\n",
    "# Save the index\n",
    "faiss.write_index(index, 'faiss_index.bin')\n",
    "\n",
    "# Save corpus for mapping (optional)\n",
    "with open('corpus.txt', 'w') as f:\n",
    "    for doc in corpus:\n",
    "        f.write(doc + '\\n')"
   ]
  }
 ],
 "metadata": {
  "language_info": {
   "name": "python"
  }
 },
 "nbformat": 4,
 "nbformat_minor": 5
}
